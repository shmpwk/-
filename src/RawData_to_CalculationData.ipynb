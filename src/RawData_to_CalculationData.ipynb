{
 "cells": [
  {
   "cell_type": "code",
   "execution_count": null,
   "metadata": {},
   "outputs": [],
   "source": [
    "#カメラ動画をtrackerをを通して時系列の魚の位置座標データにしたものを、計算用のデータに変換して保存するプログラム"
   ]
  },
  {
   "cell_type": "code",
   "execution_count": null,
   "metadata": {},
   "outputs": [],
   "source": [
    "#To-do: 1.読み込みたいファイルのパスの変更. 2.読み込みたい列番号の変更. 3.出力先パスの変更"
   ]
  },
  {
   "cell_type": "code",
   "execution_count": null,
   "metadata": {},
   "outputs": [],
   "source": [
    "#出力したデータについて\n",
    "\n",
    "#n行は、撮影動画の各時刻(30fpsなので1/30間隔)におけるデータを５つずつ移動平均を取ったものです。\n",
    "#動画の長さを15分にしてデータが1/6秒間隔で出力されているので、27000行となっています。\n",
    "#これは魚の個体数には関係なく、一律の長さです。\n",
    "\n",
    "#m列は、各個体のx,y座標です。\n",
    "#例えば、５匹であれば10列出力されています。カメラの縮尺を考慮して実世界のmm単位スケールになっています。"
   ]
  },
  {
   "cell_type": "code",
   "execution_count": 2,
   "metadata": {},
   "outputs": [],
   "source": [
    "#魚の個体数や動画の長さに関係なく、単位時間の5個分のデータ平均を出力\n",
    "#15分に相当する長さのデータの大きさに調整(１データあたり1/30秒間隔で撮影している)\n",
    "\n",
    "def moving_average(data):\n",
    "    average_data=np.zeros(data.shape[1])#(引数の配列の行数)×1の配列を生成\n",
    "    for k in range(0,27000,5): #kを0~26999まで動かす\n",
    "        x=np.mean(data[k:k+5],axis=0)#k行目からk+4行目の平均値を取る\n",
    "        average_data=np.vstack([average_data,x])#k行目にxの値を追加する\n",
    "    average_data=np.delete(average_data,0,axis=0)#0行目を消去する\n",
    "    average_data=average_data/950*140 #長さスケールをカメラの高さや拡大率を考慮して修正する。今回はカメラの映像が一辺950mmであるところが、実際は140mmであった。\n",
    "    return average_data"
   ]
  },
  {
   "cell_type": "code",
   "execution_count": null,
   "metadata": {},
   "outputs": [],
   "source": [
    "#例1/10に撮影されてトラッカーを通して得た時系列の5ひきの位置座標データを変換\n",
    "import numpy as np\n",
    "data=np.loadtxt(\"/Users/wakabayashishuntaira/Downloads/fish/1:10/5hiki/IMG_0079-position-fixed.csv\",  # 読み込みたいファイルのパス\n",
    "                  delimiter=\",\",    # ファイルの区切り文字\n",
    "                  skiprows=1,       # 先頭の何行を無視するか（指定した行数までは読み込まない）\n",
    "                  usecols=(1,2,3,4,5,6,7,8,9,10) # 読み込みたい列番号。5匹の場合はx,y座標が交互に出力されるので合計10個。x1,y1,x2,y2,......\n",
    "                )\n",
    "\n",
    "np.savetxt(\"/Users/wakabayashishuntaira/Downloads/fish/1:10/5hiki/moving_average_01_10_5.csv\",moving_average(data))\n",
    " "
   ]
  }
 ],
 "metadata": {
  "kernelspec": {
   "display_name": "Python 3",
   "language": "python",
   "name": "python3"
  },
  "language_info": {
   "codemirror_mode": {
    "name": "ipython",
    "version": 3
   },
   "file_extension": ".py",
   "mimetype": "text/x-python",
   "name": "python",
   "nbconvert_exporter": "python",
   "pygments_lexer": "ipython3",
   "version": "3.6.9"
  }
 },
 "nbformat": 4,
 "nbformat_minor": 4
}
